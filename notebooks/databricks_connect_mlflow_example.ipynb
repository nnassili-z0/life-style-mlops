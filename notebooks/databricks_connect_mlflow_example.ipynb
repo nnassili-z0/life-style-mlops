{
 "cells": [
  {
   "cell_type": "markdown",
   "id": "9a9cf200",
   "metadata": {},
   "source": [
    "# Databricks Connect & MLflow Example\n",
    "This notebook demonstrates how to use Databricks compute and MLflow directly from your local environment."
   ]
  },
  {
   "cell_type": "code",
   "execution_count": null,
   "id": "751184e0",
   "metadata": {},
   "outputs": [],
   "source": [
    "# Install and configure Databricks Connect (run in terminal, not notebook)\n",
    "# pip install databricks-connect\n",
    "# databricks-connect configure"
   ]
  },
  {
   "cell_type": "code",
   "execution_count": null,
   "id": "56d0822b",
   "metadata": {},
   "outputs": [],
   "source": [
    "# Use Spark on Databricks from local code\n",
    "from pyspark.sql import SparkSession\n",
    "spark = SparkSession.builder.getOrCreate()\n",
    "df = spark.read.csv('dbfs:/Workspace/Repos/nnassili-z0/life-style-mlops/data/raw/Final_data.csv', header=True)\n",
    "df.show(5)"
   ]
  },
  {
   "cell_type": "code",
   "execution_count": null,
   "id": "98b6f6cf",
   "metadata": {},
   "outputs": [],
   "source": [
    "# Use MLflow on Databricks from local code\n",
    "import mlflow\n",
    "mlflow.set_tracking_uri('databricks')\n",
    "mlflow.set_experiment('/Shared/lifestyle_mlops_demo')\n",
    "with mlflow.start_run():\n",
    "    mlflow.log_param('param1', 42)\n",
    "    mlflow.log_metric('accuracy', 0.99)"
   ]
  },
  {
   "cell_type": "markdown",
   "id": "a785713b",
   "metadata": {},
   "source": [
    "**Note:** You must configure Databricks Connect and set your Databricks personal access token as an environment variable for MLflow authentication."
   ]
  }
 ],
 "metadata": {
  "language_info": {
   "name": "python"
  }
 },
 "nbformat": 4,
 "nbformat_minor": 5
}
