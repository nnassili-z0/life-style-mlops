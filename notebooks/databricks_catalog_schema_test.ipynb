{
 "cells": [
  {
   "cell_type": "markdown",
   "id": "56e4dfc2",
   "metadata": {},
   "source": [
    "# Databricks Catalog & Schema Test\n",
    "This notebook will create a catalog, schema, and table in Databricks, write sample data, and verify the schema and data output."
   ]
  },
  {
   "cell_type": "code",
   "execution_count": null,
   "id": "1b739ee9",
   "metadata": {},
   "outputs": [],
   "source": [
    "# Import required libraries\n",
    "import pandas as pd\n",
    "from pyspark.sql import SparkSession"
   ]
  },
  {
   "cell_type": "code",
   "execution_count": null,
   "id": "9720d907",
   "metadata": {},
   "outputs": [],
   "source": [
    "# Create Spark session (Databricks automatically provides 'spark')\n",
    "spark = SparkSession.builder.getOrCreate()"
   ]
  },
  {
   "cell_type": "code",
   "execution_count": null,
   "id": "682bf672",
   "metadata": {},
   "outputs": [],
   "source": [
    "# Create catalog and schema if not exist\n",
    "spark.sql(\"CREATE CATALOG IF NOT EXISTS lifestyle_catalog\")\n",
    "spark.sql(\"CREATE SCHEMA IF NOT EXISTS lifestyle_catalog.lifestyle_schema\")"
   ]
  },
  {
   "cell_type": "code",
   "execution_count": null,
   "id": "b956d764",
   "metadata": {},
   "outputs": [],
   "source": [
    "# Create sample DataFrame\n",
    "df = pd.DataFrame({\n",
    "    'name': ['Alice', 'Bob', 'Charlie'],\n",
    "    'age': [25, 30, 35],\n",
    "    'city': ['Paris', 'London', 'Berlin']\n",
    "})\n",
    "sdf = spark.createDataFrame(df)"
   ]
  },
  {
   "cell_type": "code",
   "execution_count": null,
   "id": "28831533",
   "metadata": {},
   "outputs": [],
   "source": [
    "# Write DataFrame to Delta table in catalog.schema\n",
    "sdf.write.mode('overwrite').saveAsTable('lifestyle_catalog.lifestyle_schema.people')"
   ]
  },
  {
   "cell_type": "code",
   "execution_count": null,
   "id": "b71bac9c",
   "metadata": {},
   "outputs": [],
   "source": [
    "# Verify schema and preview data\n",
    "spark.sql(\"DESCRIBE TABLE lifestyle_catalog.lifestyle_schema.people\").show()\n",
    "spark.sql(\"SELECT * FROM lifestyle_catalog.lifestyle_schema.people\").show()"
   ]
  }
 ],
 "metadata": {
  "language_info": {
   "name": "python"
  }
 },
 "nbformat": 4,
 "nbformat_minor": 5
}
